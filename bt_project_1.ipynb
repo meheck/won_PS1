{
 "cells": [
  {
   "cell_type": "code",
   "execution_count": 7,
   "id": "21189c04",
   "metadata": {
    "collapsed": true
   },
   "outputs": [
    {
     "name": "stdout",
     "output_type": "stream",
     "text": [
      "Requirement already satisfied: ipython-sql in /Users/mehakagarwal/opt/miniconda3/lib/python3.8/site-packages (0.4.0)\n",
      "Requirement already satisfied: sqlparse in /Users/mehakagarwal/opt/miniconda3/lib/python3.8/site-packages (from ipython-sql) (0.4.1)\n",
      "Requirement already satisfied: ipython-genutils>=0.1.0 in /Users/mehakagarwal/opt/miniconda3/lib/python3.8/site-packages (from ipython-sql) (0.2.0)\n",
      "Requirement already satisfied: ipython>=1.0 in /Users/mehakagarwal/opt/miniconda3/lib/python3.8/site-packages (from ipython-sql) (7.22.0)\n",
      "Requirement already satisfied: prettytable<1 in /Users/mehakagarwal/opt/miniconda3/lib/python3.8/site-packages (from ipython-sql) (0.7.2)\n",
      "Requirement already satisfied: sqlalchemy>=0.6.7 in /Users/mehakagarwal/opt/miniconda3/lib/python3.8/site-packages (from ipython-sql) (1.4.37)\n",
      "Requirement already satisfied: six in /Users/mehakagarwal/opt/miniconda3/lib/python3.8/site-packages (from ipython-sql) (1.15.0)\n",
      "Requirement already satisfied: appnope; sys_platform == \"darwin\" in /Users/mehakagarwal/opt/miniconda3/lib/python3.8/site-packages (from ipython>=1.0->ipython-sql) (0.1.2)\n",
      "Requirement already satisfied: pygments in /Users/mehakagarwal/opt/miniconda3/lib/python3.8/site-packages (from ipython>=1.0->ipython-sql) (2.9.0)\n",
      "Requirement already satisfied: pickleshare in /Users/mehakagarwal/opt/miniconda3/lib/python3.8/site-packages (from ipython>=1.0->ipython-sql) (0.7.5)\n",
      "Requirement already satisfied: backcall in /Users/mehakagarwal/opt/miniconda3/lib/python3.8/site-packages (from ipython>=1.0->ipython-sql) (0.2.0)\n",
      "Requirement already satisfied: decorator in /Users/mehakagarwal/opt/miniconda3/lib/python3.8/site-packages (from ipython>=1.0->ipython-sql) (5.0.9)\n",
      "Requirement already satisfied: pexpect>4.3; sys_platform != \"win32\" in /Users/mehakagarwal/opt/miniconda3/lib/python3.8/site-packages (from ipython>=1.0->ipython-sql) (4.8.0)\n",
      "Requirement already satisfied: prompt-toolkit!=3.0.0,!=3.0.1,<3.1.0,>=2.0.0 in /Users/mehakagarwal/opt/miniconda3/lib/python3.8/site-packages (from ipython>=1.0->ipython-sql) (3.0.17)\n",
      "Requirement already satisfied: setuptools>=18.5 in /Users/mehakagarwal/opt/miniconda3/lib/python3.8/site-packages (from ipython>=1.0->ipython-sql) (47.1.1.post20200604)\n",
      "Requirement already satisfied: jedi>=0.16 in /Users/mehakagarwal/opt/miniconda3/lib/python3.8/site-packages (from ipython>=1.0->ipython-sql) (0.17.0)\n",
      "Requirement already satisfied: traitlets>=4.2 in /Users/mehakagarwal/opt/miniconda3/lib/python3.8/site-packages (from ipython>=1.0->ipython-sql) (5.0.5)\n",
      "Requirement already satisfied: greenlet!=0.4.17; python_version >= \"3\" and (platform_machine == \"aarch64\" or (platform_machine == \"ppc64le\" or (platform_machine == \"x86_64\" or (platform_machine == \"amd64\" or (platform_machine == \"AMD64\" or (platform_machine == \"win32\" or platform_machine == \"WIN32\")))))) in /Users/mehakagarwal/opt/miniconda3/lib/python3.8/site-packages (from sqlalchemy>=0.6.7->ipython-sql) (1.1.2)\n",
      "Requirement already satisfied: ptyprocess>=0.5 in /Users/mehakagarwal/opt/miniconda3/lib/python3.8/site-packages (from pexpect>4.3; sys_platform != \"win32\"->ipython>=1.0->ipython-sql) (0.7.0)\n",
      "Requirement already satisfied: wcwidth in /Users/mehakagarwal/opt/miniconda3/lib/python3.8/site-packages (from prompt-toolkit!=3.0.0,!=3.0.1,<3.1.0,>=2.0.0->ipython>=1.0->ipython-sql) (0.2.5)\n",
      "Requirement already satisfied: parso>=0.7.0 in /Users/mehakagarwal/opt/miniconda3/lib/python3.8/site-packages (from jedi>=0.16->ipython>=1.0->ipython-sql) (0.8.2)\n"
     ]
    }
   ],
   "source": [
    "!pip install ipython-sql"
   ]
  },
  {
   "cell_type": "code",
   "execution_count": 29,
   "id": "7fa3eeb5",
   "metadata": {},
   "outputs": [],
   "source": [
    "import sqlite3\n",
    "import pandas as pd\n",
    "import backtrader as bt"
   ]
  },
  {
   "cell_type": "code",
   "execution_count": 30,
   "id": "47efc57a",
   "metadata": {},
   "outputs": [],
   "source": [
    "df1 = pd.read_csv('data.csv')"
   ]
  },
  {
   "cell_type": "code",
   "execution_count": 25,
   "id": "b2eb4b04",
   "metadata": {},
   "outputs": [
    {
     "name": "stdout",
     "output_type": "stream",
     "text": [
      "       symbol localsymbol     osid  tradedate  previoustradedate   close\n",
      "11421  HDS.IN    HDFCLIFE  3153738   20171117                NaN  344.60\n",
      "11423  HDS.IN    HDFCLIFE  3153738   20171120         20171117.0  355.35\n",
      "11429  HDS.IN    HDFCLIFE  3153738   20171121         20171120.0  385.30\n",
      "11431  HDS.IN    HDFCLIFE  3153738   20171122         20171121.0  395.20\n",
      "11437  HDS.IN    HDFCLIFE  3153738   20171123         20171122.0  374.85\n",
      "...       ...         ...      ...        ...                ...     ...\n",
      "15895  HDS.IN    HDFCLIFE  3153738   20220530         20220527.0  608.90\n",
      "15901  HDS.IN    HDFCLIFE  3153738   20220531         20220530.0  598.95\n",
      "15903  HDS.IN    HDFCLIFE  3153738   20220601         20220531.0  607.15\n",
      "15909  HDS.IN    HDFCLIFE  3153738   20220602         20220601.0  607.90\n",
      "15911  HDS.IN    HDFCLIFE  3153738   20220603         20220602.0  614.15\n",
      "\n",
      "[1124 rows x 6 columns] \n",
      "\n",
      "\n",
      "       symbol localsymbol     osid  tradedate  previoustradedate  close\n",
      "4526   ILC.IN        IDEA  3094236   20080722                NaN  87.20\n",
      "4528   ILC.IN        IDEA  3094236   20080723         20080722.0  91.45\n",
      "4530   ILC.IN        IDEA  3094236   20080724         20080723.0  87.75\n",
      "4535   ILC.IN        IDEA  3094236   20080725         20080724.0  88.35\n",
      "4537   ILC.IN        IDEA  3094236   20080728         20080725.0  89.50\n",
      "...       ...         ...      ...        ...                ...    ...\n",
      "15894  ILC.IN        IDEA  3094236   20220530         20220527.0  15.40\n",
      "15900  ILC.IN        IDEA  3094236   20220531         20220530.0  15.89\n",
      "15902  ILC.IN        IDEA  3094236   20220601         20220531.0  15.48\n",
      "15908  ILC.IN        IDEA  3094236   20220602         20220601.0  15.81\n",
      "15910  ILC.IN        IDEA  3094236   20220603         20220602.0  15.65\n",
      "\n",
      "[3422 rows x 6 columns] \n",
      "\n",
      "\n",
      "       symbol localsymbol     osid  tradedate  previoustradedate     close\n",
      "0      REL.IN    RELIANCE  3023127   19980105                NaN    172.45\n",
      "1      REL.IN    RELIANCE  3023127   19980106         19980105.0    171.05\n",
      "2      REL.IN    RELIANCE  3023127   19980107         19980106.0    172.75\n",
      "3      REL.IN    RELIANCE  3023127   19980108         19980107.0    168.30\n",
      "4      REL.IN    RELIANCE  3023127   19980109         19980108.0    164.00\n",
      "...       ...         ...      ...        ...                ...       ...\n",
      "15897  REL.IN    RELIANCE  3023127   20220530         20220527.0  17815.15\n",
      "15899  REL.IN    RELIANCE  3023127   20220531         20220530.0  17600.22\n",
      "15905  REL.IN    RELIANCE  3023127   20220601         20220531.0  17605.90\n",
      "15907  REL.IN    RELIANCE  3023127   20220602         20220601.0  18212.93\n",
      "15912  REL.IN    RELIANCE  3023127   20220603         20220602.0  18745.75\n",
      "\n",
      "[6054 rows x 6 columns] \n",
      "\n",
      "\n",
      "       symbol localsymbol     osid  tradedate  previoustradedate     close\n",
      "740    WIP.IN       WIPRO  3022645   20001220                NaN   2616.15\n",
      "742    WIP.IN       WIPRO  3022645   20001221         20001220.0   2499.80\n",
      "744    WIP.IN       WIPRO  3022645   20001222         20001221.0   2304.45\n",
      "746    WIP.IN       WIPRO  3022645   20001226         20001222.0   2181.00\n",
      "748    WIP.IN       WIPRO  3022645   20001227         20001226.0   2247.30\n",
      "...       ...         ...      ...        ...                ...       ...\n",
      "15896  WIP.IN       WIPRO  3022645   20220530         20220527.0  14452.70\n",
      "15898  WIP.IN       WIPRO  3022645   20220531         20220530.0  14507.33\n",
      "15904  WIP.IN       WIPRO  3022645   20220601         20220531.0  14285.80\n",
      "15906  WIP.IN       WIPRO  3022645   20220602         20220601.0  14388.97\n",
      "15913  WIP.IN       WIPRO  3022645   20220603         20220602.0  14680.30\n",
      "\n",
      "[5314 rows x 6 columns] \n",
      "\n",
      "\n"
     ]
    }
   ],
   "source": [
    "df2 = df1.groupby('symbol')\n",
    "for key, item in df2:\n",
    "    print(df2.get_group(key), \"\\n\\n\")"
   ]
  },
  {
   "cell_type": "code",
   "execution_count": 28,
   "id": "66f13a20",
   "metadata": {},
   "outputs": [],
   "source": [
    "rel = df2.get_group('REL.IN')\n",
    "ilc = df2.get_group('ILC.IN')\n",
    "hds = df2.get_group('HDS.IN')\n",
    "wip = df2.get_group('WIP.IN')"
   ]
  },
  {
   "cell_type": "code",
   "execution_count": 61,
   "id": "1937b0b4",
   "metadata": {},
   "outputs": [],
   "source": [
    "class TestStrategy(bt.Strategy):\n",
    "    params = (\n",
    "    ('fast', 50),\n",
    "    ('slow', 200)\n",
    "    )\n",
    "    \n",
    "    def __init__(self):\n",
    "        self.crossovers = []\n",
    "        \n",
    "        for d in self.datas:\n",
    "            ma_fast = bt.ind.SMA(d, period = self.params.fast)\n",
    "            ma_slow = bt.ind.SMA(d, period = self.params.slow)\n",
    "            \n",
    "            self.crossovers.append(bt.ind.CrossOver(ma_fast, ma_slow))\n",
    "            \n",
    "    def next(self):\n",
    "        for i,d in enumerate(self.datas):\n",
    "            if not self.getposition(d).size:\n",
    "                if self.crossovers[i] > 0:\n",
    "                    self.buy(data = d)\n",
    "                    \n",
    "            elif self.crossovers[i] < 0:\n",
    "                self.close(data = d)\n",
    "            \n",
    "            \n",
    "        "
   ]
  },
  {
   "cell_type": "code",
   "execution_count": 43,
   "id": "b730a8fd",
   "metadata": {},
   "outputs": [],
   "source": [
    "class PandasData(bt.feed.DataBase):\n",
    "    #linesoverride = True\n",
    "    #lines = ('close')\n",
    "    params = (\n",
    "        ('datetime', 'tradedate'),\n",
    "        ('open', -1),\n",
    "        ('high', -1),\n",
    "        ('low', -1),\n",
    "        ('close', 'close'),\n",
    "        ('volume', -1),\n",
    "        ('openinterest', -1)\n",
    "        )"
   ]
  },
  {
   "cell_type": "code",
   "execution_count": 53,
   "id": "fe5cd3c0",
   "metadata": {},
   "outputs": [],
   "source": [
    "cerebro = bt.Cerebro()"
   ]
  },
  {
   "cell_type": "code",
   "execution_count": 54,
   "id": "9115dce8",
   "metadata": {},
   "outputs": [],
   "source": [
    "stocks = {'rel':rel, 'ilc':ilc, 'hds':hds, 'wip':wip}\n",
    "for s in stocks:\n",
    "    data = bt.feeds.PandasData(dataname = stocks[s])\n",
    "    cerebro.adddata(data, name = s)"
   ]
  },
  {
   "cell_type": "code",
   "execution_count": 62,
   "id": "cee2da0a",
   "metadata": {},
   "outputs": [
    {
     "data": {
      "text/plain": [
       "<bound method Cerebro.run of <backtrader.cerebro.Cerebro object at 0x7fb0bf941520>>"
      ]
     },
     "execution_count": 62,
     "metadata": {},
     "output_type": "execute_result"
    }
   ],
   "source": [
    "cerebro.addstrategy(TestStrategy)\n",
    "cerebro.broker.setcash(100000000.0)\n",
    "cerebro.run"
   ]
  },
  {
   "cell_type": "code",
   "execution_count": 63,
   "id": "441a5129",
   "metadata": {},
   "outputs": [
    {
     "data": {
      "text/plain": [
       "100000000.0"
      ]
     },
     "execution_count": 63,
     "metadata": {},
     "output_type": "execute_result"
    }
   ],
   "source": [
    "cerebro.broker.getvalue()"
   ]
  },
  {
   "cell_type": "code",
   "execution_count": null,
   "id": "98905cec",
   "metadata": {},
   "outputs": [],
   "source": []
  }
 ],
 "metadata": {
  "kernelspec": {
   "display_name": "Python 3",
   "language": "python",
   "name": "python3"
  },
  "language_info": {
   "codemirror_mode": {
    "name": "ipython",
    "version": 3
   },
   "file_extension": ".py",
   "mimetype": "text/x-python",
   "name": "python",
   "nbconvert_exporter": "python",
   "pygments_lexer": "ipython3",
   "version": "3.8.3"
  }
 },
 "nbformat": 4,
 "nbformat_minor": 5
}
